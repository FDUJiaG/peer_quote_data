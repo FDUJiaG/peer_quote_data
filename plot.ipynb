{
 "cells": [
  {
   "cell_type": "code",
   "execution_count": 1,
   "metadata": {},
   "outputs": [],
   "source": [
    "import os\n",
    "import time\n",
    "from datetime import datetime\n",
    "import string\n",
    "import numpy as np\n",
    "import pandas as pd\n",
    "import matplotlib.pyplot as plt\n",
    "from pyecharts.charts import Bar\n",
    "from pyecharts.commons.utils import JsCode\n",
    "from pyecharts import options as opts\n",
    "import warnings\n",
    "\n",
    "warnings.filterwarnings(\"ignore\")"
   ]
  },
  {
   "cell_type": "code",
   "execution_count": 2,
   "metadata": {},
   "outputs": [],
   "source": [
    "def get_ns_info_data(f_path):\n",
    "    return pd.read_excel(f_path, sheet_name=\"Sheet1\", header=0)"
   ]
  },
  {
   "cell_type": "code",
   "execution_count": 3,
   "metadata": {},
   "outputs": [],
   "source": [
    "root_path = os.path.abspath(\".\")\n",
    "file_name = \"伟创电气.xlsx\"\n",
    "file_path = os.path.join(root_path, file_name)"
   ]
  },
  {
   "cell_type": "code",
   "execution_count": 4,
   "metadata": {
    "scrolled": true
   },
   "outputs": [
    {
     "data": {
      "text/html": [
       "<div>\n",
       "<style scoped>\n",
       "    .dataframe tbody tr th:only-of-type {\n",
       "        vertical-align: middle;\n",
       "    }\n",
       "\n",
       "    .dataframe tbody tr th {\n",
       "        vertical-align: top;\n",
       "    }\n",
       "\n",
       "    .dataframe thead th {\n",
       "        text-align: right;\n",
       "    }\n",
       "</style>\n",
       "<table border=\"1\" class=\"dataframe\">\n",
       "  <thead>\n",
       "    <tr style=\"text-align: right;\">\n",
       "      <th></th>\n",
       "      <th>序号</th>\n",
       "      <th>网下投资者名称</th>\n",
       "      <th>配售对象名称</th>\n",
       "      <th>申购价格（元）</th>\n",
       "      <th>申购数量（万股）</th>\n",
       "      <th>备注</th>\n",
       "    </tr>\n",
       "  </thead>\n",
       "  <tbody>\n",
       "    <tr>\n",
       "      <th>0</th>\n",
       "      <td>1</td>\n",
       "      <td>财通证券股份有限公司</td>\n",
       "      <td>财通证券股份有限公司自营投资账户</td>\n",
       "      <td>56.00</td>\n",
       "      <td>1300</td>\n",
       "      <td>高价剔除</td>\n",
       "    </tr>\n",
       "    <tr>\n",
       "      <th>1</th>\n",
       "      <td>2</td>\n",
       "      <td>福建滚雪球投资管理有限公司</td>\n",
       "      <td>滚雪球西湖1号投资基金</td>\n",
       "      <td>55.90</td>\n",
       "      <td>110</td>\n",
       "      <td>高价剔除</td>\n",
       "    </tr>\n",
       "    <tr>\n",
       "      <th>2</th>\n",
       "      <td>3</td>\n",
       "      <td>福建滚雪球投资管理有限公司</td>\n",
       "      <td>滚雪球兴泉8号私募证券投资基金</td>\n",
       "      <td>55.90</td>\n",
       "      <td>110</td>\n",
       "      <td>高价剔除</td>\n",
       "    </tr>\n",
       "    <tr>\n",
       "      <th>3</th>\n",
       "      <td>4</td>\n",
       "      <td>福建滚雪球投资管理有限公司</td>\n",
       "      <td>福建至诚滚雪球一号</td>\n",
       "      <td>55.90</td>\n",
       "      <td>260</td>\n",
       "      <td>高价剔除</td>\n",
       "    </tr>\n",
       "    <tr>\n",
       "      <th>4</th>\n",
       "      <td>5</td>\n",
       "      <td>福建滚雪球投资管理有限公司</td>\n",
       "      <td>滚雪球兴泉3号私募证券投资基金</td>\n",
       "      <td>55.90</td>\n",
       "      <td>560</td>\n",
       "      <td>高价剔除</td>\n",
       "    </tr>\n",
       "    <tr>\n",
       "      <th>...</th>\n",
       "      <td>...</td>\n",
       "      <td>...</td>\n",
       "      <td>...</td>\n",
       "      <td>...</td>\n",
       "      <td>...</td>\n",
       "      <td>...</td>\n",
       "    </tr>\n",
       "    <tr>\n",
       "      <th>8582</th>\n",
       "      <td>8583</td>\n",
       "      <td>宁波幻方量化投资管理合伙企业（有限合伙）</td>\n",
       "      <td>九章幻方中证500量化多策略2号私募基金</td>\n",
       "      <td>10.77</td>\n",
       "      <td>1300</td>\n",
       "      <td>无效报价</td>\n",
       "    </tr>\n",
       "    <tr>\n",
       "      <th>8583</th>\n",
       "      <td>8584</td>\n",
       "      <td>宁波幻方量化投资管理合伙企业（有限合伙）</td>\n",
       "      <td>幻方量化对冲11号私募证券投资基金</td>\n",
       "      <td>10.77</td>\n",
       "      <td>1300</td>\n",
       "      <td>无效报价</td>\n",
       "    </tr>\n",
       "    <tr>\n",
       "      <th>8584</th>\n",
       "      <td>8585</td>\n",
       "      <td>宁波幻方量化投资管理合伙企业（有限合伙）</td>\n",
       "      <td>九章幻方大盘精选2号私募基金</td>\n",
       "      <td>10.77</td>\n",
       "      <td>1300</td>\n",
       "      <td>无效报价</td>\n",
       "    </tr>\n",
       "    <tr>\n",
       "      <th>8585</th>\n",
       "      <td>8586</td>\n",
       "      <td>宁波幻方量化投资管理合伙企业（有限合伙）</td>\n",
       "      <td>幻方量化定制16号2期私募证券投资基金</td>\n",
       "      <td>10.77</td>\n",
       "      <td>1300</td>\n",
       "      <td>无效报价</td>\n",
       "    </tr>\n",
       "    <tr>\n",
       "      <th>8586</th>\n",
       "      <td>8587</td>\n",
       "      <td>平安养老保险股份有限公司</td>\n",
       "      <td>平安养老-国泰君安证券股份有限公司企业年金计划</td>\n",
       "      <td>10.77</td>\n",
       "      <td>1300</td>\n",
       "      <td>无效报价</td>\n",
       "    </tr>\n",
       "  </tbody>\n",
       "</table>\n",
       "<p>8587 rows × 6 columns</p>\n",
       "</div>"
      ],
      "text/plain": [
       "        序号               网下投资者名称                   配售对象名称  申购价格（元）  申购数量（万股）  \\\n",
       "0        1            财通证券股份有限公司         财通证券股份有限公司自营投资账户    56.00      1300   \n",
       "1        2         福建滚雪球投资管理有限公司              滚雪球西湖1号投资基金    55.90       110   \n",
       "2        3         福建滚雪球投资管理有限公司          滚雪球兴泉8号私募证券投资基金    55.90       110   \n",
       "3        4         福建滚雪球投资管理有限公司                福建至诚滚雪球一号    55.90       260   \n",
       "4        5         福建滚雪球投资管理有限公司          滚雪球兴泉3号私募证券投资基金    55.90       560   \n",
       "...    ...                   ...                      ...      ...       ...   \n",
       "8582  8583  宁波幻方量化投资管理合伙企业（有限合伙）     九章幻方中证500量化多策略2号私募基金    10.77      1300   \n",
       "8583  8584  宁波幻方量化投资管理合伙企业（有限合伙）        幻方量化对冲11号私募证券投资基金    10.77      1300   \n",
       "8584  8585  宁波幻方量化投资管理合伙企业（有限合伙）           九章幻方大盘精选2号私募基金    10.77      1300   \n",
       "8585  8586  宁波幻方量化投资管理合伙企业（有限合伙）      幻方量化定制16号2期私募证券投资基金    10.77      1300   \n",
       "8586  8587          平安养老保险股份有限公司  平安养老-国泰君安证券股份有限公司企业年金计划    10.77      1300   \n",
       "\n",
       "        备注  \n",
       "0     高价剔除  \n",
       "1     高价剔除  \n",
       "2     高价剔除  \n",
       "3     高价剔除  \n",
       "4     高价剔除  \n",
       "...    ...  \n",
       "8582  无效报价  \n",
       "8583  无效报价  \n",
       "8584  无效报价  \n",
       "8585  无效报价  \n",
       "8586  无效报价  \n",
       "\n",
       "[8587 rows x 6 columns]"
      ]
     },
     "execution_count": 4,
     "metadata": {},
     "output_type": "execute_result"
    }
   ],
   "source": [
    "df = get_ns_info_data(file_path)\n",
    "df"
   ]
  },
  {
   "cell_type": "code",
   "execution_count": 5,
   "metadata": {},
   "outputs": [],
   "source": [
    "jg = df[\"申购价格（元）\"].value_counts()"
   ]
  },
  {
   "cell_type": "code",
   "execution_count": 6,
   "metadata": {},
   "outputs": [],
   "source": [
    "x_list = sorted(list(jg.keys()), reverse=False)\n",
    "y_list = [int(jg[item]) for item in x_list]"
   ]
  },
  {
   "cell_type": "code",
   "execution_count": 69,
   "metadata": {},
   "outputs": [],
   "source": [
    "y_adj_list = [str(item / 10) for item in y_list]"
   ]
  },
  {
   "cell_type": "code",
   "execution_count": null,
   "metadata": {},
   "outputs": [],
   "source": [
    "y_dict = zip()"
   ]
  },
  {
   "cell_type": "code",
   "execution_count": 66,
   "metadata": {},
   "outputs": [
    {
     "data": {
      "text/plain": [
       "8587"
      ]
     },
     "execution_count": 66,
     "metadata": {},
     "output_type": "execute_result"
    }
   ],
   "source": [
    "sum(y_list)"
   ]
  },
  {
   "cell_type": "code",
   "execution_count": 67,
   "metadata": {},
   "outputs": [
    {
     "data": {
      "text/plain": [
       "(8.55, 0.0003493653196692675)"
      ]
     },
     "execution_count": 67,
     "metadata": {},
     "output_type": "execute_result"
    }
   ],
   "source": [
    "x_list[0], y_list[0] / 8587"
   ]
  },
  {
   "cell_type": "code",
   "execution_count": 80,
   "metadata": {},
   "outputs": [],
   "source": [
    "y_temp = list()"
   ]
  },
  {
   "cell_type": "code",
   "execution_count": 89,
   "metadata": {},
   "outputs": [],
   "source": [
    "y_temp.append(\n",
    "    opts.BarItem(\n",
    "        name=\"1.75\",\n",
    "        value=1020,\n",
    "        label_opts=opts.LabelOpts(\n",
    "            formatter=\"{@score}:{b}\"\n",
    "        )\n",
    "    )\n",
    ")"
   ]
  },
  {
   "cell_type": "code",
   "execution_count": 90,
   "metadata": {},
   "outputs": [
    {
     "data": {
      "text/plain": [
       "[<pyecharts.options.charts_options.BarItem at 0x20c86f90a40>,\n",
       " <pyecharts.options.charts_options.BarItem at 0x20c86c614c0>,\n",
       " <pyecharts.options.charts_options.BarItem at 0x20c86a51680>]"
      ]
     },
     "execution_count": 90,
     "metadata": {},
     "output_type": "execute_result"
    }
   ],
   "source": [
    "y_temp"
   ]
  },
  {
   "cell_type": "code",
   "execution_count": 94,
   "metadata": {},
   "outputs": [
    {
     "data": {
      "text/plain": [
       "'E:\\\\peer_quote_data\\\\render.html'"
      ]
     },
     "execution_count": 94,
     "metadata": {},
     "output_type": "execute_result"
    }
   ],
   "source": [
    "bar = Bar({\"height\": \"1500px\", \"weight\": \"1000px\"})\n",
    "bar.set_global_opts(\n",
    "    title_opts=opts.TitleOpts(title=file_name),\n",
    "    toolbox_opts=opts.ToolboxOpts(),\n",
    "#     visualmap_opts=opts.VisualMapOpts(),\n",
    "    datazoom_opts=opts.DataZoomOpts(orient='vertical')\n",
    ")\n",
    "bar.add_xaxis(x_list)\n",
    "bar.add_yaxis(\n",
    "    file_name,\n",
    "#     y_list,\n",
    "    y_axis=y_temp,\n",
    "    color='#1E90FF',\n",
    "    label_opts=opts.LabelOpts(\n",
    "        position = \"right\",\n",
    "        font_size = 14\n",
    "    ),\n",
    "    itemstyle_opts = opts.ItemStyleOpts(\n",
    "        opacity=0.9\n",
    "    ),\n",
    "    markpoint_opts=opts.MarkPointOpts(\n",
    "        # 标记点数据\n",
    "        data = [\n",
    "            # MarkPointItem：标记点数据项\n",
    "            opts.MarkPointItem(\n",
    "                 # 标注名称\n",
    "                name=\"High\",\n",
    "                coord=[1000, \"8.55\"],\n",
    "                value=\"高剔价格：10.82\",\n",
    "                # 标记的图形\n",
    "                # ECharts 提供的标记类型包括 'circle', 'rect', 'roundRect', 'triangle', 'diamond', 'pin', 'arrow', 'none'\n",
    "                symbol = None,\n",
    "                symbol_size = None,\n",
    "                itemstyle_opts = opts.ItemStyleOpts(\n",
    "                    color=\"#FFFFFF\",\n",
    "                    opacity=0.8\n",
    "                ),\n",
    "            ),\n",
    "            opts.MarkPointItem(\n",
    "                 # 标注名称\n",
    "                name=\"High\", \n",
    "                coord=[1500, \"10.75\"],\n",
    "                value=\"低剔价格：10.75\",\n",
    "                # 标记的图形\n",
    "                # ECharts 提供的标记类型包括 'circle', 'rect', 'roundRect', 'triangle', 'diamond', 'pin', 'arrow', 'none'\n",
    "                symbol = \"arrow\",\n",
    "                symbol_size = None,\n",
    "                itemstyle_opts = opts.ItemStyleOpts(\n",
    "                    color=\"#FFFFFF\",\n",
    "                    opacity=0.8\n",
    "                ),\n",
    "            )\n",
    "        ],\n",
    "        symbol = None,\n",
    "        symbol_size = None,\n",
    "        # 标签配置项，参考 `series_options.LabelOpts`\n",
    "        label_opts = opts.LabelOpts(\n",
    "            position=\"inside\",\n",
    "            font_size=16,\n",
    "            color=\"#FF0000\"\n",
    "        ),\n",
    "    )\n",
    ")\n",
    "bar.reversal_axis()\n",
    "bar.set_series_opts(\n",
    "    markline_opts=opts.MarkLineOpts(\n",
    "        data=[\n",
    "            # MarkLineItem：标记线数据项\n",
    "            opts.MarkLineItem(\n",
    "                name=\"高剔价格\",\n",
    "                y=\"10.82\",\n",
    "#                 y=x_list.index(10.82)\n",
    "#                 coord=[100, 52]\n",
    "            ),\n",
    "            opts.MarkLineItem(\n",
    "                name=\"低剔价格\",\n",
    "                y=\"10.75\",\n",
    "            )\n",
    "        ],\n",
    "        linestyle_opts=opts.LineStyleOpts(\n",
    "            width=3,\n",
    "            opacity=0.5,\n",
    "            type_='dashed',\n",
    "#             color=['#FF0000', '#00FF00'],\n",
    "        ),\n",
    "        label_opts=opts.LabelOpts(\n",
    "            position='left',\n",
    "            is_show=True,\n",
    "            font_size=14,\n",
    "            formatter='{@score}'\n",
    "        ),\n",
    "        symbol=None,\n",
    "        symbol_size=1\n",
    "    )\n",
    ")\n",
    "# render 会生成本地 HTML 文件，默认会在当前目录生成 render.html 文件\n",
    "# 也可以传入路径参数，如 bar.render(\"mycharts.html\")\n",
    "bar.render()"
   ]
  },
  {
   "cell_type": "code",
   "execution_count": null,
   "metadata": {},
   "outputs": [],
   "source": []
  }
 ],
 "metadata": {
  "kernelspec": {
   "display_name": "Python 3",
   "language": "python",
   "name": "python3"
  },
  "language_info": {
   "codemirror_mode": {
    "name": "ipython",
    "version": 3
   },
   "file_extension": ".py",
   "mimetype": "text/x-python",
   "name": "python",
   "nbconvert_exporter": "python",
   "pygments_lexer": "ipython3",
   "version": "3.8.5"
  }
 },
 "nbformat": 4,
 "nbformat_minor": 4
}
